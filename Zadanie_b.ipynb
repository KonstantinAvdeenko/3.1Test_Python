import re
gl = r'\b(?:\w*[aeiyouAEIYOU]){3}\w*'
slova = ['It was a great evolution', 'humanity created a super-powerful nemesis.','Everyone felt a delightful and completely valid future']
text = str(slova)
print(re.findall(gl, text) )