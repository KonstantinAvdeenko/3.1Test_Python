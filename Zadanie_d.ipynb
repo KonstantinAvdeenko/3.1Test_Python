spisok = [8, 4, 2, 2, 8, 1, 4, 5, 7, 5] 
spisok = list(set(spisok)) 
print(spisok)