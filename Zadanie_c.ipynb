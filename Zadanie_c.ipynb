def rashet(chislo): 
    lastmax = chislo[0] 
    realmax = chislo[0] 
    for i in range(len(chislo)): 
     if chislo[i] > realmax: 
      realmax = chislo[i]  
    for i in range(len(chislo)): 
     if chislo[i] > lastmax and chislo[i] != realmax: 
      realmax = chislo[i]  
    return lastmax 
print(rashet([50, 80, 30, 15, 45]))