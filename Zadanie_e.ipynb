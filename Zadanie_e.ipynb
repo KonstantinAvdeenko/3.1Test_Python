import csv
schitivanie = csv.DictReader(open('D:/Zadanie_e.csv'))
slovar = {}
for stroka in schitivanie:
    key = stroka.pop('Name')
    if key in slovar:        
        pass
    slovar[key] = stroka
print(slovar) 