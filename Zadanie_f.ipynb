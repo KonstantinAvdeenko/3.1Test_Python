def podstroka(stroka, n):
    razdelitel = [iter(stroka)] * n
    return zip(*razdelitel)

words = input("Vvod stroki dlya razbieniya: ")
podstroki = [''.join(i) for i in podstroka(words, 3)]
print(podstroki)