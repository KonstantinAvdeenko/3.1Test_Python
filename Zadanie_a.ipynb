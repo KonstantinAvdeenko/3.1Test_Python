a = [1, 2, 3, 4, 5, 6, 7, 8, 9, 10]
a = [x for x in a if int(x)%2]
print (a)